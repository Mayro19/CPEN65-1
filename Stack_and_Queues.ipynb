{
  "nbformat": 4,
  "nbformat_minor": 0,
  "metadata": {
    "colab": {
      "provenance": [],
      "authorship_tag": "ABX9TyP3Ldz1z8BCuGgWEjdK07aI",
      "include_colab_link": true
    },
    "kernelspec": {
      "name": "python3",
      "display_name": "Python 3"
    },
    "language_info": {
      "name": "python"
    }
  },
  "cells": [
    {
      "cell_type": "markdown",
      "metadata": {
        "id": "view-in-github",
        "colab_type": "text"
      },
      "source": [
        "<a href=\"https://colab.research.google.com/github/MiroAngeles/CPEN65-1/blob/main/Stack_and_Queues.ipynb\" target=\"_parent\"><img src=\"https://colab.research.google.com/assets/colab-badge.svg\" alt=\"Open In Colab\"/></a>"
      ]
    },
    {
      "cell_type": "code",
      "execution_count": 9,
      "metadata": {
        "colab": {
          "base_uri": "https://localhost:8080/"
        },
        "id": "v0gg3vEEYNUq",
        "outputId": "e4d4f7d0-cf41-4c53-fe3e-c4af79dbad18"
      },
      "outputs": [
        {
          "output_type": "stream",
          "name": "stdout",
          "text": [
            "['A', 'B', 'C', 'D', 'E']\n",
            "['A', 'B', 'C']\n"
          ]
        }
      ],
      "source": [
        "class Stack:\n",
        "  def __init__(self):\n",
        "    self.stack = []               #stack implementation using OOP concepts\n",
        "\n",
        "  def push(self,dataval):\n",
        "    if dataval not in self.stack:\n",
        "      return self.stack.append(dataval)\n",
        "    else:\n",
        "      return False\n",
        "  def pop(self):\n",
        "    if len(self.stack)<=0:\n",
        "      return (\"No element in the stack\")\n",
        "    else:\n",
        "      return self.stack.pop()\n",
        "\n",
        "AStack = Stack()\n",
        "AStack.push(\"A\")\n",
        "AStack.push(\"B\")\n",
        "AStack.push(\"C\")\n",
        "AStack.push(\"D\")\n",
        "AStack.push(\"E\")\n",
        "print(AStack.stack)\n",
        "AStack.pop()\n",
        "AStack.pop()\n",
        "print(AStack.stack)"
      ]
    },
    {
      "cell_type": "markdown",
      "source": [
        "###Application"
      ],
      "metadata": {
        "id": "B4629QqOlSuv"
      }
    },
    {
      "cell_type": "code",
      "source": [
        "#Implement the above program by Queues Data Structure (enqueue and dequeue/FIFO principle)"
      ],
      "metadata": {
        "id": "6WR5rI5llYRU"
      },
      "execution_count": null,
      "outputs": []
    },
    {
      "cell_type": "code",
      "source": [
        "class Queue:              \n",
        "  def __init__(self):\n",
        "    self.queue = []      \n",
        "\n",
        "  def enqueue(self, dataval):\n",
        "    if dataval not in self.queue:\n",
        "      return self.queue.append(dataval)\n",
        "    else:\n",
        "      return False\n",
        "\n",
        "  def dequeue(self):\n",
        "    if len(self.queue)<=0:\n",
        "      return (\"No element in the queue\")\n",
        "    else:\n",
        "      return self.queue.pop(0)\n",
        "\n",
        "\n",
        "QueueZonCity = Queue()\n",
        "QueueZonCity.enqueue(\"A\")\n",
        "QueueZonCity.enqueue(\"B\")\n",
        "QueueZonCity.enqueue(\"C\")\n",
        "QueueZonCity.enqueue(\"D\")\n",
        "QueueZonCity.enqueue(\"E\")\n",
        "print(QueueZonCity.queue)\n",
        "QueueZonCity.dequeue()\n",
        "QueueZonCity.dequeue()\n",
        "print(QueueZonCity.queue)"
      ],
      "metadata": {
        "colab": {
          "base_uri": "https://localhost:8080/"
        },
        "id": "n_uiLETGmHNP",
        "outputId": "89a00cb6-8c35-4f9a-d614-b3184f303c48"
      },
      "execution_count": 33,
      "outputs": [
        {
          "output_type": "stream",
          "name": "stdout",
          "text": [
            "['A', 'B', 'C', 'D', 'E']\n",
            "['C', 'D', 'E']\n"
          ]
        }
      ]
    }
  ]
}