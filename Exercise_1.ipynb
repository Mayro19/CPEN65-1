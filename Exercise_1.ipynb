{
  "nbformat": 4,
  "nbformat_minor": 0,
  "metadata": {
    "colab": {
      "provenance": [],
      "collapsed_sections": [],
      "authorship_tag": "ABX9TyMBCD7S0ODMSiXAOJfdTt9E",
      "include_colab_link": true
    },
    "kernelspec": {
      "name": "python3",
      "display_name": "Python 3"
    },
    "language_info": {
      "name": "python"
    }
  },
  "cells": [
    {
      "cell_type": "markdown",
      "metadata": {
        "id": "view-in-github",
        "colab_type": "text"
      },
      "source": [
        "<a href=\"https://colab.research.google.com/github/MiroAngeles/CPEN65-1/blob/main/Exercise_1.ipynb\" target=\"_parent\"><img src=\"https://colab.research.google.com/assets/colab-badge.svg\" alt=\"Open In Colab\"/></a>"
      ]
    },
    {
      "cell_type": "code",
      "execution_count": 8,
      "metadata": {
        "colab": {
          "base_uri": "https://localhost:8080/"
        },
        "id": "sG7LUkajCJKj",
        "outputId": "08b45e73-d5a2-482d-87b9-51ac63fad8d4"
      },
      "outputs": [
        {
          "output_type": "stream",
          "name": "stdout",
          "text": [
            "My name before reverse:  M i r o G o A n g e l e s\n",
            "My name after reverse:  s e l e g n A o G o r i M\n"
          ]
        }
      ],
      "source": [
        "#Exercise 1: Insert each character of your full name and displays each character of your full name in reverse order\n",
        "\n",
        "name = [\"M\",\"i\",\"r\",\"o\",\"G\",\"o\",\"A\",\"n\",\"g\",\"e\",\"l\",\"e\",\"s\"]\n",
        "print(\"My name before reverse: \",*name)\n",
        "name.reverse()\n",
        "print(\"My name after reverse: \",*name)"
      ]
    }
  ]
}