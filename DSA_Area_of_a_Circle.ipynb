{
  "nbformat": 4,
  "nbformat_minor": 0,
  "metadata": {
    "colab": {
      "provenance": [],
      "authorship_tag": "ABX9TyOHSydiB7Uj6E6gpXriIizz",
      "include_colab_link": true
    },
    "kernelspec": {
      "name": "python3",
      "display_name": "Python 3"
    },
    "language_info": {
      "name": "python"
    }
  },
  "cells": [
    {
      "cell_type": "markdown",
      "metadata": {
        "id": "view-in-github",
        "colab_type": "text"
      },
      "source": [
        "<a href=\"https://colab.research.google.com/github/MiroAngeles/CPEN65-1/blob/main/DSA_Area_of_a_Circle.ipynb\" target=\"_parent\"><img src=\"https://colab.research.google.com/assets/colab-badge.svg\" alt=\"Open In Colab\"/></a>"
      ]
    },
    {
      "cell_type": "code",
      "execution_count": 1,
      "metadata": {
        "colab": {
          "base_uri": "https://localhost:8080/"
        },
        "id": "-zHPmhX6Bjk8",
        "outputId": "ff3228fe-cd6f-4b0c-c378-8d04e7fcb7f0"
      },
      "outputs": [
        {
          "output_type": "stream",
          "name": "stdout",
          "text": [
            "Input the radius of the circle: 20\n",
            "The area of the circle with radius 20.0 is: 1256.6370614359173\n"
          ]
        }
      ],
      "source": [
        "from math import pi\n",
        "r = float(input (\"Input the radius of the circle: \"))\n",
        "print (\"The area of the circle with radius \" + str(r) + \" is: \" + str(pi * r**2))"
      ]
    }
  ]
}