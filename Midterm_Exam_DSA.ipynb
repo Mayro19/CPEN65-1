{
  "nbformat": 4,
  "nbformat_minor": 0,
  "metadata": {
    "colab": {
      "provenance": [],
      "authorship_tag": "ABX9TyNkLf34cHxbHemw8kNvgHif",
      "include_colab_link": true
    },
    "kernelspec": {
      "name": "python3",
      "display_name": "Python 3"
    },
    "language_info": {
      "name": "python"
    }
  },
  "cells": [
    {
      "cell_type": "markdown",
      "metadata": {
        "id": "view-in-github",
        "colab_type": "text"
      },
      "source": [
        "<a href=\"https://colab.research.google.com/github/MiroAngeles/CPEN65-1/blob/main/Midterm_Exam_DSA.ipynb\" target=\"_parent\"><img src=\"https://colab.research.google.com/assets/colab-badge.svg\" alt=\"Open In Colab\"/></a>"
      ]
    },
    {
      "cell_type": "code",
      "execution_count": 6,
      "metadata": {
        "colab": {
          "base_uri": "https://localhost:8080/"
        },
        "id": "VBrd8J8hXCQ3",
        "outputId": "e423fd51-5656-447b-a7c9-c0e21899952f"
      },
      "outputs": [
        {
          "output_type": "stream",
          "name": "stdout",
          "text": [
            "array('i', [1, 2, 3, 4, 5, 6, 7, 8, 9, 10])\n",
            "1\n",
            "2\n",
            "3\n",
            "4\n",
            "5\n",
            "6\n",
            "7\n",
            "8\n",
            "9\n",
            "10\n",
            "The total sum of the array is:  55\n"
          ]
        }
      ],
      "source": [
        "#1. Write a Python program to create an array of 10 integers and display the array items. Access individual elements through indexes and compute for the sum.\n",
        "\n",
        "from array import *\n",
        "arr = array('i' ,[1,2,3,4,5,6,7,8,9,10])\n",
        "print(arr)\n",
        "\n",
        "print(arr[0])\n",
        "print(arr[1])\n",
        "print(arr[2])\n",
        "print(arr[3])\n",
        "print(arr[4])\n",
        "print(arr[5])\n",
        "print(arr[6])\n",
        "print(arr[7])\n",
        "print(arr[8])\n",
        "print(arr[9])\n",
        "\n",
        "sum_arr = sum(arr)\n",
        "print(\"The total sum of the array is: \", sum_arr)"
      ]
    },
    {
      "cell_type": "code",
      "source": [
        "#2. Write a Python program to append a new item to the end of the array. Original array:numbers=[1,2,3,4,5,6,7,8,9,10]\n",
        "\n",
        "from array import *\n",
        "arr = array('i' ,[1,2,3,4,5,6,7,8,9,10])\n",
        "print('Original array: ' + str(arr))\n",
        "arr.append(11)\n",
        "print('New array: ' + str(arr))"
      ],
      "metadata": {
        "colab": {
          "base_uri": "https://localhost:8080/"
        },
        "id": "BRo23jLKXDcx",
        "outputId": "c495621e-b898-4552-c576-4449c95263e6"
      },
      "execution_count": 3,
      "outputs": [
        {
          "output_type": "stream",
          "name": "stdout",
          "text": [
            "Original array: array('i', [1, 2, 3, 4, 5, 6, 7, 8, 9, 10])\n",
            "New array: array('i', [1, 2, 3, 4, 5, 6, 7, 8, 9, 10, 11])\n"
          ]
        }
      ]
    },
    {
      "cell_type": "code",
      "source": [
        "#3. Write a Python program to insert a new item before the last element in an existing array. Original array:numbers = [1,2,3,4,5,6,7,8,9,10]\n",
        "\n",
        "from array import *\n",
        "arr = array('i' ,[1,2,3,4,5,6,7,8,9,10])\n",
        "print('Original array: ' + str(arr))\n",
        "arr.insert(9,7)\n",
        "print('New array: ' + str(arr))"
      ],
      "metadata": {
        "colab": {
          "base_uri": "https://localhost:8080/"
        },
        "id": "aB62K_sQXFoQ",
        "outputId": "336d07d4-da6f-4c6c-8e4d-f4e51f4b01b8"
      },
      "execution_count": 2,
      "outputs": [
        {
          "output_type": "stream",
          "name": "stdout",
          "text": [
            "Original array: array('i', [1, 2, 3, 4, 5, 6, 7, 8, 9, 10])\n",
            "New array: array('i', [1, 2, 3, 4, 5, 6, 7, 8, 9, 7, 10])\n"
          ]
        }
      ]
    },
    {
      "cell_type": "code",
      "source": [
        "#4. Write a Python program to reverse the order of the items in the array. Original array: numbers = [1,2,3,4,5]\n",
        "\n",
        "from array import *\n",
        "arr = array('i' ,[1,2,3,4,5])\n",
        "print('Original array: ' + str(arr))\n",
        "arr.reverse()\n",
        "print('New array: ' + str(arr))"
      ],
      "metadata": {
        "colab": {
          "base_uri": "https://localhost:8080/"
        },
        "id": "YgpbG_CpXHaA",
        "outputId": "abb3c9a3-b6a1-464e-cf3c-b05dfc8c312a"
      },
      "execution_count": 1,
      "outputs": [
        {
          "output_type": "stream",
          "name": "stdout",
          "text": [
            "Original array: array('i', [1, 2, 3, 4, 5])\n",
            "New array: array('i', [5, 4, 3, 2, 1])\n"
          ]
        }
      ]
    },
    {
      "cell_type": "code",
      "source": [
        "# Let A be an array of size n>2 containing integers from 1 to n-1, inclusive, with exactly one repeated. Create an algorithm for finding the integer in A that is repeated. \n",
        "\n",
        "arr = array('i' ,[1,2,3,4,5,5])\n",
        "Arr = []\n",
        "\n",
        "for i in arr:\n",
        "  if i not in Arr:\n",
        "    Arr.append(i)\n",
        "  else:\n",
        "    print(f'The repeated element/s is: {i}')\n"
      ],
      "metadata": {
        "colab": {
          "base_uri": "https://localhost:8080/"
        },
        "id": "zPAip-MsXJNQ",
        "outputId": "181b8718-4e98-4976-d7ab-157097dfbee2"
      },
      "execution_count": 9,
      "outputs": [
        {
          "output_type": "stream",
          "name": "stdout",
          "text": [
            "The repeated element/s is: 5\n"
          ]
        }
      ]
    }
  ]
}